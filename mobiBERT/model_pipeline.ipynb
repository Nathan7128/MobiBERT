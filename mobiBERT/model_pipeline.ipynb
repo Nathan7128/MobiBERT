{
 "cells": [
  {
   "cell_type": "markdown",
   "id": "3329ebc6",
   "metadata": {},
   "source": [
    "# Datasets"
   ]
  },
  {
   "cell_type": "code",
   "execution_count": 1,
   "id": "3b2edb39",
   "metadata": {},
   "outputs": [
    {
     "name": "stderr",
     "output_type": "stream",
     "text": [
      "c:\\Users\\Nathan\\Documents\\GitHub\\stage2025test\\env\\Lib\\site-packages\\tqdm\\auto.py:21: TqdmWarning: IProgress not found. Please update jupyter and ipywidgets. See https://ipywidgets.readthedocs.io/en/stable/user_install.html\n",
      "  from .autonotebook import tqdm as notebook_tqdm\n"
     ]
    }
   ],
   "source": [
    "from pipeline.hf_traj_datasets.datasets import GeolifeGeoHashed, GowallaGeoHashed, HuggingFaceTrajDataset"
   ]
  },
  {
   "cell_type": "markdown",
   "id": "0e457aad",
   "metadata": {},
   "source": [
    "### Geolife Geo-hashed"
   ]
  },
  {
   "cell_type": "code",
   "execution_count": null,
   "id": "0aad5baa",
   "metadata": {},
   "outputs": [],
   "source": [
    "geolife_geohashed = GeolifeGeoHashed()\n",
    "geolife_geohashed.save()"
   ]
  },
  {
   "cell_type": "code",
   "execution_count": 3,
   "id": "dba38e54",
   "metadata": {},
   "outputs": [
    {
     "data": {
      "text/plain": [
       "{'geolife_geohashed': 'c:\\\\Users\\\\Nathan\\\\Documents\\\\GitHub\\\\stage2025test\\\\mobiBERT\\\\pipeline\\\\data\\\\hf_traj_dataset\\\\geolife_geohashed'}"
      ]
     },
     "execution_count": 3,
     "metadata": {},
     "output_type": "execute_result"
    }
   ],
   "source": [
    "saved_datasets = GeolifeGeoHashed.get_saved_datasets()\n",
    "saved_datasets"
   ]
  },
  {
   "cell_type": "code",
   "execution_count": 4,
   "id": "3c2fc069",
   "metadata": {},
   "outputs": [],
   "source": [
    "geolife_geohashed = GeolifeGeoHashed.load_from_file(saved_datasets[\"geolife_geohashed\"])"
   ]
  },
  {
   "cell_type": "markdown",
   "id": "ef497d6a",
   "metadata": {},
   "source": [
    "### Gowalla Geo-hashed"
   ]
  },
  {
   "cell_type": "code",
   "execution_count": 5,
   "id": "0624a867",
   "metadata": {},
   "outputs": [
    {
     "name": "stdout",
     "output_type": "stream",
     "text": [
      "\n",
      "LOADING THE INITIAL DATA...\n",
      "\n",
      "\n",
      "PROCESSING THE INITIAL DATA...\n",
      "\n"
     ]
    },
    {
     "name": "stderr",
     "output_type": "stream",
     "text": [
      "Creating sequences: 100%|██████████| 330/330 [02:37<00:00,  2.09it/s]\n"
     ]
    },
    {
     "name": "stdout",
     "output_type": "stream",
     "text": [
      "\n",
      "CREATING THE HUGGING FACE DATASET...\n",
      "\n"
     ]
    },
    {
     "name": "stderr",
     "output_type": "stream",
     "text": [
      "Saving the dataset (1/1 shards): 100%|██████████| 26089/26089 [00:00<?, ? examples/s]\n"
     ]
    }
   ],
   "source": [
    "gowalla_geohashed = GowallaGeoHashed()\n",
    "gowalla_geohashed.save()"
   ]
  },
  {
   "cell_type": "markdown",
   "id": "b3fcb63c",
   "metadata": {},
   "source": [
    "# Tokenizers"
   ]
  },
  {
   "cell_type": "code",
   "execution_count": 6,
   "id": "b8b91d47",
   "metadata": {},
   "outputs": [],
   "source": [
    "from pipeline.traj_tokenizers.tokenizers import TrajTokenizer, RobertaTrajTokenizer"
   ]
  },
  {
   "cell_type": "code",
   "execution_count": null,
   "id": "c25e2bd6",
   "metadata": {},
   "outputs": [],
   "source": [
    "roberta_tokenizer_geolife_geohashed = RobertaTrajTokenizer(tokenizer_name=\"roberta_tokenizer_geolife_geohashed\", dataset=geolife_geohashed)\n",
    "roberta_tokenizer_geolife_geohashed.initialize(vocab_size=52000, sequences_max_length=512)\n",
    "roberta_tokenizer_geolife_geohashed.train()\n",
    "roberta_tokenizer_geolife_geohashed.save()"
   ]
  },
  {
   "cell_type": "code",
   "execution_count": 8,
   "id": "22f403ae",
   "metadata": {},
   "outputs": [
    {
     "data": {
      "text/plain": [
       "{'roberta_tokenizer_geolife_geohashed': 'c:\\\\Users\\\\Nathan\\\\Documents\\\\GitHub\\\\stage2025test\\\\mobiBERT\\\\pipeline\\\\data\\\\traj_tokenizers\\\\roberta_tokenizer_geolife_geohashed'}"
      ]
     },
     "execution_count": 8,
     "metadata": {},
     "output_type": "execute_result"
    }
   ],
   "source": [
    "saved_tokenizers = RobertaTrajTokenizer.get_saved_tokenizers()\n",
    "saved_tokenizers"
   ]
  },
  {
   "cell_type": "code",
   "execution_count": 9,
   "id": "b562781c",
   "metadata": {},
   "outputs": [],
   "source": [
    "roberta_tokenizer_geolife_geohashed = RobertaTrajTokenizer.load_from_file(saved_tokenizers[\"roberta_tokenizer_geolife_geohashed\"])"
   ]
  },
  {
   "cell_type": "markdown",
   "id": "e92fbdb6",
   "metadata": {},
   "source": [
    "# Model pre-training"
   ]
  },
  {
   "cell_type": "code",
   "execution_count": 10,
   "id": "ac039a80",
   "metadata": {},
   "outputs": [],
   "source": [
    "from pipeline.traj_models.pre_trained_models import RobertaTrajPreTrained"
   ]
  },
  {
   "cell_type": "code",
   "execution_count": null,
   "id": "ed66ab7f",
   "metadata": {},
   "outputs": [
    {
     "name": "stderr",
     "output_type": "stream",
     "text": [
      "Map: 100%|██████████| 282750/282750 [00:36<00:00, 7650.72 examples/s]\n",
      "2025/07/17 14:30:46 INFO mlflow.tracking.fluent: Experiment with name 'Pre-trained Models' does not exist. Creating a new experiment.\n",
      "2025/07/17 14:30:46 INFO mlflow.system_metrics.system_metrics_monitor: Skip logging GPU metrics. Set logger level to DEBUG for more details.\n",
      "2025/07/17 14:30:46 INFO mlflow.system_metrics.system_metrics_monitor: Started monitoring system metrics.\n"
     ]
    },
    {
     "data": {
      "text/html": [
       "\n",
       "    <div>\n",
       "      \n",
       "      <progress value='17672' max='17672' style='width:300px; height:20px; vertical-align: middle;'></progress>\n",
       "      [17672/17672 1:25:48, Epoch 2/2]\n",
       "    </div>\n",
       "    <table border=\"1\" class=\"dataframe\">\n",
       "  <thead>\n",
       " <tr style=\"text-align: left;\">\n",
       "      <th>Step</th>\n",
       "      <th>Training Loss</th>\n",
       "    </tr>\n",
       "  </thead>\n",
       "  <tbody>\n",
       "    <tr>\n",
       "      <td>500</td>\n",
       "      <td>4.888500</td>\n",
       "    </tr>\n",
       "    <tr>\n",
       "      <td>1000</td>\n",
       "      <td>4.269200</td>\n",
       "    </tr>\n",
       "    <tr>\n",
       "      <td>1500</td>\n",
       "      <td>4.071000</td>\n",
       "    </tr>\n",
       "    <tr>\n",
       "      <td>2000</td>\n",
       "      <td>3.872400</td>\n",
       "    </tr>\n",
       "    <tr>\n",
       "      <td>2500</td>\n",
       "      <td>3.619800</td>\n",
       "    </tr>\n",
       "    <tr>\n",
       "      <td>3000</td>\n",
       "      <td>3.357600</td>\n",
       "    </tr>\n",
       "    <tr>\n",
       "      <td>3500</td>\n",
       "      <td>3.165100</td>\n",
       "    </tr>\n",
       "    <tr>\n",
       "      <td>4000</td>\n",
       "      <td>2.961700</td>\n",
       "    </tr>\n",
       "    <tr>\n",
       "      <td>4500</td>\n",
       "      <td>2.745100</td>\n",
       "    </tr>\n",
       "    <tr>\n",
       "      <td>5000</td>\n",
       "      <td>2.632300</td>\n",
       "    </tr>\n",
       "    <tr>\n",
       "      <td>5500</td>\n",
       "      <td>2.501600</td>\n",
       "    </tr>\n",
       "    <tr>\n",
       "      <td>6000</td>\n",
       "      <td>2.377000</td>\n",
       "    </tr>\n",
       "    <tr>\n",
       "      <td>6500</td>\n",
       "      <td>2.257800</td>\n",
       "    </tr>\n",
       "    <tr>\n",
       "      <td>7000</td>\n",
       "      <td>2.166500</td>\n",
       "    </tr>\n",
       "    <tr>\n",
       "      <td>7500</td>\n",
       "      <td>2.109900</td>\n",
       "    </tr>\n",
       "    <tr>\n",
       "      <td>8000</td>\n",
       "      <td>2.051300</td>\n",
       "    </tr>\n",
       "    <tr>\n",
       "      <td>8500</td>\n",
       "      <td>2.002100</td>\n",
       "    </tr>\n",
       "    <tr>\n",
       "      <td>9000</td>\n",
       "      <td>1.949100</td>\n",
       "    </tr>\n",
       "    <tr>\n",
       "      <td>9500</td>\n",
       "      <td>1.925500</td>\n",
       "    </tr>\n",
       "    <tr>\n",
       "      <td>10000</td>\n",
       "      <td>1.873100</td>\n",
       "    </tr>\n",
       "    <tr>\n",
       "      <td>10500</td>\n",
       "      <td>1.857800</td>\n",
       "    </tr>\n",
       "    <tr>\n",
       "      <td>11000</td>\n",
       "      <td>1.843300</td>\n",
       "    </tr>\n",
       "    <tr>\n",
       "      <td>11500</td>\n",
       "      <td>1.786300</td>\n",
       "    </tr>\n",
       "    <tr>\n",
       "      <td>12000</td>\n",
       "      <td>1.786600</td>\n",
       "    </tr>\n",
       "    <tr>\n",
       "      <td>12500</td>\n",
       "      <td>1.754800</td>\n",
       "    </tr>\n",
       "    <tr>\n",
       "      <td>13000</td>\n",
       "      <td>1.724400</td>\n",
       "    </tr>\n",
       "    <tr>\n",
       "      <td>13500</td>\n",
       "      <td>1.714900</td>\n",
       "    </tr>\n",
       "    <tr>\n",
       "      <td>14000</td>\n",
       "      <td>1.721700</td>\n",
       "    </tr>\n",
       "    <tr>\n",
       "      <td>14500</td>\n",
       "      <td>1.694200</td>\n",
       "    </tr>\n",
       "    <tr>\n",
       "      <td>15000</td>\n",
       "      <td>1.693700</td>\n",
       "    </tr>\n",
       "    <tr>\n",
       "      <td>15500</td>\n",
       "      <td>1.685300</td>\n",
       "    </tr>\n",
       "    <tr>\n",
       "      <td>16000</td>\n",
       "      <td>1.660500</td>\n",
       "    </tr>\n",
       "    <tr>\n",
       "      <td>16500</td>\n",
       "      <td>1.651000</td>\n",
       "    </tr>\n",
       "    <tr>\n",
       "      <td>17000</td>\n",
       "      <td>1.669700</td>\n",
       "    </tr>\n",
       "    <tr>\n",
       "      <td>17500</td>\n",
       "      <td>1.672400</td>\n",
       "    </tr>\n",
       "  </tbody>\n",
       "</table><p>"
      ],
      "text/plain": [
       "<IPython.core.display.HTML object>"
      ]
     },
     "metadata": {},
     "output_type": "display_data"
    },
    {
     "name": "stderr",
     "output_type": "stream",
     "text": [
      "2025/07/17 15:56:37 INFO mlflow.system_metrics.system_metrics_monitor: Stopping system metrics monitoring...\n",
      "2025/07/17 15:56:37 INFO mlflow.system_metrics.system_metrics_monitor: Successfully terminated system metrics monitoring!\n"
     ]
    }
   ],
   "source": [
    "roberta_6AttBlocks = RobertaTrajPreTrained(model_name=\"roberta_6AttBlocks\", dataset=geolife_geohashed, tokenizer=roberta_tokenizer_geolife_geohashed)\n",
    "roberta_6AttBlocks.config_model(num_hidden_layers=6, num_attention_heads=12, hidden_size=768)\n",
    "roberta_6AttBlocks.preprocess_data()\n",
    "roberta_6AttBlocks.config_training(nb_epochs=2, mlm_probability=0.15)\n",
    "roberta_6AttBlocks.config_mlflow(params_to_log=roberta_6AttBlocks.get_model_params())\n",
    "roberta_6AttBlocks.train()\n",
    "roberta_6AttBlocks.save()"
   ]
  },
  {
   "cell_type": "markdown",
   "id": "df2c628d",
   "metadata": {},
   "source": [
    "# Model fine-tuning"
   ]
  },
  {
   "cell_type": "markdown",
   "id": "114d10c4",
   "metadata": {},
   "source": [
    "### Set evaluation metrics"
   ]
  },
  {
   "cell_type": "code",
   "execution_count": 12,
   "id": "919e1763",
   "metadata": {},
   "outputs": [],
   "source": [
    "from pipeline.traj_models.traj_metrics import TrajAccuracy, TrajF1, TrajPrecision, TrajRecall, TrajTop_K_Accuracy, TrajTop_K_F1"
   ]
  },
  {
   "cell_type": "code",
   "execution_count": null,
   "id": "9797cd93",
   "metadata": {},
   "outputs": [],
   "source": [
    "metric_list = [TrajAccuracy(), TrajF1(), TrajPrecision(), TrajRecall(), TrajTop_K_Accuracy(top_k_length=5), TrajTop_K_F1(top_k_length=5)]"
   ]
  },
  {
   "cell_type": "code",
   "execution_count": null,
   "id": "ce740dce",
   "metadata": {},
   "outputs": [
    {
     "name": "stderr",
     "output_type": "stream",
     "text": [
      "Some weights of RobertaForSequenceClassification were not initialized from the model checkpoint at c:\\Users\\Nathan\\Documents\\GitHub\\stage2025test\\mobiBERT\\pipeline\\data\\traj_models\\pre_trained_models\\roberta_6AttBlocks\\hf_model and are newly initialized: ['classifier.dense.bias', 'classifier.dense.weight', 'classifier.out_proj.bias', 'classifier.out_proj.weight']\n",
      "You should probably TRAIN this model on a down-stream task to be able to use it for predictions and inference.\n",
      "Map: 100%|██████████| 26089/26089 [00:03<00:00, 8201.43 examples/s]\n",
      "Map: 100%|██████████| 26089/26089 [00:01<00:00, 14954.17 examples/s]\n",
      "2025/07/17 15:59:14 INFO mlflow.tracking.fluent: Experiment with name 'Fine-tuned Models' does not exist. Creating a new experiment.\n",
      "2025/07/17 15:59:14 INFO mlflow.system_metrics.system_metrics_monitor: Skip logging GPU metrics. Set logger level to DEBUG for more details.\n",
      "2025/07/17 15:59:14 INFO mlflow.system_metrics.system_metrics_monitor: Started monitoring system metrics.\n"
     ]
    },
    {
     "data": {
      "text/html": [
       "\n",
       "    <div>\n",
       "      \n",
       "      <progress value='1960' max='1960' style='width:300px; height:20px; vertical-align: middle;'></progress>\n",
       "      [1960/1960 14:19, Epoch 8/8]\n",
       "    </div>\n",
       "    <table border=\"1\" class=\"dataframe\">\n",
       "  <thead>\n",
       " <tr style=\"text-align: left;\">\n",
       "      <th>Step</th>\n",
       "      <th>Training Loss</th>\n",
       "      <th>Validation Loss</th>\n",
       "      <th>Accuracy</th>\n",
       "      <th>F1</th>\n",
       "      <th>Precision</th>\n",
       "      <th>Recall</th>\n",
       "      <th>Top 5 Accuracy</th>\n",
       "      <th>Top 5 F1</th>\n",
       "    </tr>\n",
       "  </thead>\n",
       "  <tbody>\n",
       "    <tr>\n",
       "      <td>100</td>\n",
       "      <td>4.476200</td>\n",
       "      <td>3.920490</td>\n",
       "      <td>0.208892</td>\n",
       "      <td>0.118221</td>\n",
       "      <td>0.111732</td>\n",
       "      <td>0.208892</td>\n",
       "      <td>0.413760</td>\n",
       "      <td>0.137920</td>\n",
       "    </tr>\n",
       "    <tr>\n",
       "      <td>200</td>\n",
       "      <td>3.634300</td>\n",
       "      <td>3.271193</td>\n",
       "      <td>0.337294</td>\n",
       "      <td>0.241791</td>\n",
       "      <td>0.243796</td>\n",
       "      <td>0.337294</td>\n",
       "      <td>0.573400</td>\n",
       "      <td>0.191133</td>\n",
       "    </tr>\n",
       "    <tr>\n",
       "      <td>300</td>\n",
       "      <td>3.146700</td>\n",
       "      <td>2.898611</td>\n",
       "      <td>0.435991</td>\n",
       "      <td>0.355230</td>\n",
       "      <td>0.353867</td>\n",
       "      <td>0.435991</td>\n",
       "      <td>0.646225</td>\n",
       "      <td>0.215408</td>\n",
       "    </tr>\n",
       "    <tr>\n",
       "      <td>400</td>\n",
       "      <td>2.865000</td>\n",
       "      <td>2.627584</td>\n",
       "      <td>0.472595</td>\n",
       "      <td>0.386069</td>\n",
       "      <td>0.394086</td>\n",
       "      <td>0.472595</td>\n",
       "      <td>0.692794</td>\n",
       "      <td>0.230931</td>\n",
       "    </tr>\n",
       "    <tr>\n",
       "      <td>500</td>\n",
       "      <td>2.569300</td>\n",
       "      <td>2.404572</td>\n",
       "      <td>0.525489</td>\n",
       "      <td>0.450170</td>\n",
       "      <td>0.450062</td>\n",
       "      <td>0.525489</td>\n",
       "      <td>0.730356</td>\n",
       "      <td>0.243452</td>\n",
       "    </tr>\n",
       "    <tr>\n",
       "      <td>600</td>\n",
       "      <td>2.338100</td>\n",
       "      <td>2.219215</td>\n",
       "      <td>0.562859</td>\n",
       "      <td>0.488040</td>\n",
       "      <td>0.491345</td>\n",
       "      <td>0.562859</td>\n",
       "      <td>0.762361</td>\n",
       "      <td>0.254120</td>\n",
       "    </tr>\n",
       "    <tr>\n",
       "      <td>700</td>\n",
       "      <td>2.248500</td>\n",
       "      <td>2.077454</td>\n",
       "      <td>0.584707</td>\n",
       "      <td>0.517896</td>\n",
       "      <td>0.516595</td>\n",
       "      <td>0.584707</td>\n",
       "      <td>0.783634</td>\n",
       "      <td>0.261211</td>\n",
       "    </tr>\n",
       "    <tr>\n",
       "      <td>800</td>\n",
       "      <td>2.129300</td>\n",
       "      <td>1.966219</td>\n",
       "      <td>0.603871</td>\n",
       "      <td>0.537141</td>\n",
       "      <td>0.537338</td>\n",
       "      <td>0.603871</td>\n",
       "      <td>0.797624</td>\n",
       "      <td>0.265875</td>\n",
       "    </tr>\n",
       "    <tr>\n",
       "      <td>900</td>\n",
       "      <td>1.981200</td>\n",
       "      <td>1.871969</td>\n",
       "      <td>0.622269</td>\n",
       "      <td>0.559563</td>\n",
       "      <td>0.551854</td>\n",
       "      <td>0.622269</td>\n",
       "      <td>0.817746</td>\n",
       "      <td>0.272582</td>\n",
       "    </tr>\n",
       "    <tr>\n",
       "      <td>1000</td>\n",
       "      <td>1.844600</td>\n",
       "      <td>1.784669</td>\n",
       "      <td>0.628785</td>\n",
       "      <td>0.567407</td>\n",
       "      <td>0.558148</td>\n",
       "      <td>0.628785</td>\n",
       "      <td>0.833653</td>\n",
       "      <td>0.277884</td>\n",
       "    </tr>\n",
       "    <tr>\n",
       "      <td>1100</td>\n",
       "      <td>1.816700</td>\n",
       "      <td>1.716515</td>\n",
       "      <td>0.644883</td>\n",
       "      <td>0.588523</td>\n",
       "      <td>0.582954</td>\n",
       "      <td>0.644883</td>\n",
       "      <td>0.842660</td>\n",
       "      <td>0.280887</td>\n",
       "    </tr>\n",
       "    <tr>\n",
       "      <td>1200</td>\n",
       "      <td>1.740100</td>\n",
       "      <td>1.658329</td>\n",
       "      <td>0.654274</td>\n",
       "      <td>0.598133</td>\n",
       "      <td>0.592945</td>\n",
       "      <td>0.654274</td>\n",
       "      <td>0.848218</td>\n",
       "      <td>0.282739</td>\n",
       "    </tr>\n",
       "    <tr>\n",
       "      <td>1300</td>\n",
       "      <td>1.697700</td>\n",
       "      <td>1.612247</td>\n",
       "      <td>0.665772</td>\n",
       "      <td>0.611285</td>\n",
       "      <td>0.605189</td>\n",
       "      <td>0.665772</td>\n",
       "      <td>0.853200</td>\n",
       "      <td>0.284400</td>\n",
       "    </tr>\n",
       "    <tr>\n",
       "      <td>1400</td>\n",
       "      <td>1.622900</td>\n",
       "      <td>1.568034</td>\n",
       "      <td>0.664431</td>\n",
       "      <td>0.612207</td>\n",
       "      <td>0.607252</td>\n",
       "      <td>0.664431</td>\n",
       "      <td>0.860675</td>\n",
       "      <td>0.286892</td>\n",
       "    </tr>\n",
       "    <tr>\n",
       "      <td>1500</td>\n",
       "      <td>1.585600</td>\n",
       "      <td>1.538562</td>\n",
       "      <td>0.671522</td>\n",
       "      <td>0.620302</td>\n",
       "      <td>0.625222</td>\n",
       "      <td>0.671522</td>\n",
       "      <td>0.864507</td>\n",
       "      <td>0.288169</td>\n",
       "    </tr>\n",
       "    <tr>\n",
       "      <td>1600</td>\n",
       "      <td>1.548400</td>\n",
       "      <td>1.510725</td>\n",
       "      <td>0.673821</td>\n",
       "      <td>0.624472</td>\n",
       "      <td>0.627520</td>\n",
       "      <td>0.673821</td>\n",
       "      <td>0.868915</td>\n",
       "      <td>0.289638</td>\n",
       "    </tr>\n",
       "    <tr>\n",
       "      <td>1700</td>\n",
       "      <td>1.539100</td>\n",
       "      <td>1.484524</td>\n",
       "      <td>0.679954</td>\n",
       "      <td>0.630014</td>\n",
       "      <td>0.642725</td>\n",
       "      <td>0.679954</td>\n",
       "      <td>0.873515</td>\n",
       "      <td>0.291172</td>\n",
       "    </tr>\n",
       "    <tr>\n",
       "      <td>1800</td>\n",
       "      <td>1.508000</td>\n",
       "      <td>1.470577</td>\n",
       "      <td>0.679379</td>\n",
       "      <td>0.630193</td>\n",
       "      <td>0.631500</td>\n",
       "      <td>0.679379</td>\n",
       "      <td>0.875623</td>\n",
       "      <td>0.291874</td>\n",
       "    </tr>\n",
       "    <tr>\n",
       "      <td>1900</td>\n",
       "      <td>1.491900</td>\n",
       "      <td>1.463453</td>\n",
       "      <td>0.682062</td>\n",
       "      <td>0.635394</td>\n",
       "      <td>0.641765</td>\n",
       "      <td>0.682062</td>\n",
       "      <td>0.878306</td>\n",
       "      <td>0.292769</td>\n",
       "    </tr>\n",
       "  </tbody>\n",
       "</table><p>"
      ],
      "text/plain": [
       "<IPython.core.display.HTML object>"
      ]
     },
     "metadata": {},
     "output_type": "display_data"
    },
    {
     "name": "stderr",
     "output_type": "stream",
     "text": [
      "c:\\Users\\Nathan\\Documents\\GitHub\\stage2025test\\env\\Lib\\site-packages\\sklearn\\metrics\\_classification.py:1706: UndefinedMetricWarning: Precision is ill-defined and being set to 0.0 in labels with no predicted samples. Use `zero_division` parameter to control this behavior.\n",
      "  _warn_prf(average, modifier, f\"{metric.capitalize()} is\", result.shape[0])\n",
      "c:\\Users\\Nathan\\Documents\\GitHub\\stage2025test\\env\\Lib\\site-packages\\sklearn\\metrics\\_classification.py:1706: UndefinedMetricWarning: Precision is ill-defined and being set to 0.0 in labels with no predicted samples. Use `zero_division` parameter to control this behavior.\n",
      "  _warn_prf(average, modifier, f\"{metric.capitalize()} is\", result.shape[0])\n",
      "c:\\Users\\Nathan\\Documents\\GitHub\\stage2025test\\env\\Lib\\site-packages\\sklearn\\metrics\\_classification.py:1706: UndefinedMetricWarning: Precision is ill-defined and being set to 0.0 in labels with no predicted samples. Use `zero_division` parameter to control this behavior.\n",
      "  _warn_prf(average, modifier, f\"{metric.capitalize()} is\", result.shape[0])\n",
      "c:\\Users\\Nathan\\Documents\\GitHub\\stage2025test\\env\\Lib\\site-packages\\sklearn\\metrics\\_classification.py:1706: UndefinedMetricWarning: Precision is ill-defined and being set to 0.0 in labels with no predicted samples. Use `zero_division` parameter to control this behavior.\n",
      "  _warn_prf(average, modifier, f\"{metric.capitalize()} is\", result.shape[0])\n",
      "c:\\Users\\Nathan\\Documents\\GitHub\\stage2025test\\env\\Lib\\site-packages\\sklearn\\metrics\\_classification.py:1706: UndefinedMetricWarning: Precision is ill-defined and being set to 0.0 in labels with no predicted samples. Use `zero_division` parameter to control this behavior.\n",
      "  _warn_prf(average, modifier, f\"{metric.capitalize()} is\", result.shape[0])\n",
      "c:\\Users\\Nathan\\Documents\\GitHub\\stage2025test\\env\\Lib\\site-packages\\sklearn\\metrics\\_classification.py:1706: UndefinedMetricWarning: Precision is ill-defined and being set to 0.0 in labels with no predicted samples. Use `zero_division` parameter to control this behavior.\n",
      "  _warn_prf(average, modifier, f\"{metric.capitalize()} is\", result.shape[0])\n",
      "c:\\Users\\Nathan\\Documents\\GitHub\\stage2025test\\env\\Lib\\site-packages\\sklearn\\metrics\\_classification.py:1706: UndefinedMetricWarning: Precision is ill-defined and being set to 0.0 in labels with no predicted samples. Use `zero_division` parameter to control this behavior.\n",
      "  _warn_prf(average, modifier, f\"{metric.capitalize()} is\", result.shape[0])\n",
      "c:\\Users\\Nathan\\Documents\\GitHub\\stage2025test\\env\\Lib\\site-packages\\sklearn\\metrics\\_classification.py:1706: UndefinedMetricWarning: Precision is ill-defined and being set to 0.0 in labels with no predicted samples. Use `zero_division` parameter to control this behavior.\n",
      "  _warn_prf(average, modifier, f\"{metric.capitalize()} is\", result.shape[0])\n",
      "c:\\Users\\Nathan\\Documents\\GitHub\\stage2025test\\env\\Lib\\site-packages\\sklearn\\metrics\\_classification.py:1706: UndefinedMetricWarning: Precision is ill-defined and being set to 0.0 in labels with no predicted samples. Use `zero_division` parameter to control this behavior.\n",
      "  _warn_prf(average, modifier, f\"{metric.capitalize()} is\", result.shape[0])\n",
      "c:\\Users\\Nathan\\Documents\\GitHub\\stage2025test\\env\\Lib\\site-packages\\sklearn\\metrics\\_classification.py:1706: UndefinedMetricWarning: Precision is ill-defined and being set to 0.0 in labels with no predicted samples. Use `zero_division` parameter to control this behavior.\n",
      "  _warn_prf(average, modifier, f\"{metric.capitalize()} is\", result.shape[0])\n",
      "c:\\Users\\Nathan\\Documents\\GitHub\\stage2025test\\env\\Lib\\site-packages\\sklearn\\metrics\\_classification.py:1706: UndefinedMetricWarning: Precision is ill-defined and being set to 0.0 in labels with no predicted samples. Use `zero_division` parameter to control this behavior.\n",
      "  _warn_prf(average, modifier, f\"{metric.capitalize()} is\", result.shape[0])\n",
      "c:\\Users\\Nathan\\Documents\\GitHub\\stage2025test\\env\\Lib\\site-packages\\sklearn\\metrics\\_classification.py:1706: UndefinedMetricWarning: Precision is ill-defined and being set to 0.0 in labels with no predicted samples. Use `zero_division` parameter to control this behavior.\n",
      "  _warn_prf(average, modifier, f\"{metric.capitalize()} is\", result.shape[0])\n",
      "c:\\Users\\Nathan\\Documents\\GitHub\\stage2025test\\env\\Lib\\site-packages\\sklearn\\metrics\\_classification.py:1706: UndefinedMetricWarning: Precision is ill-defined and being set to 0.0 in labels with no predicted samples. Use `zero_division` parameter to control this behavior.\n",
      "  _warn_prf(average, modifier, f\"{metric.capitalize()} is\", result.shape[0])\n",
      "c:\\Users\\Nathan\\Documents\\GitHub\\stage2025test\\env\\Lib\\site-packages\\sklearn\\metrics\\_classification.py:1706: UndefinedMetricWarning: Precision is ill-defined and being set to 0.0 in labels with no predicted samples. Use `zero_division` parameter to control this behavior.\n",
      "  _warn_prf(average, modifier, f\"{metric.capitalize()} is\", result.shape[0])\n",
      "c:\\Users\\Nathan\\Documents\\GitHub\\stage2025test\\env\\Lib\\site-packages\\sklearn\\metrics\\_classification.py:1706: UndefinedMetricWarning: Precision is ill-defined and being set to 0.0 in labels with no predicted samples. Use `zero_division` parameter to control this behavior.\n",
      "  _warn_prf(average, modifier, f\"{metric.capitalize()} is\", result.shape[0])\n",
      "c:\\Users\\Nathan\\Documents\\GitHub\\stage2025test\\env\\Lib\\site-packages\\sklearn\\metrics\\_classification.py:1706: UndefinedMetricWarning: Precision is ill-defined and being set to 0.0 in labels with no predicted samples. Use `zero_division` parameter to control this behavior.\n",
      "  _warn_prf(average, modifier, f\"{metric.capitalize()} is\", result.shape[0])\n",
      "c:\\Users\\Nathan\\Documents\\GitHub\\stage2025test\\env\\Lib\\site-packages\\sklearn\\metrics\\_classification.py:1706: UndefinedMetricWarning: Precision is ill-defined and being set to 0.0 in labels with no predicted samples. Use `zero_division` parameter to control this behavior.\n",
      "  _warn_prf(average, modifier, f\"{metric.capitalize()} is\", result.shape[0])\n",
      "c:\\Users\\Nathan\\Documents\\GitHub\\stage2025test\\env\\Lib\\site-packages\\sklearn\\metrics\\_classification.py:1706: UndefinedMetricWarning: Precision is ill-defined and being set to 0.0 in labels with no predicted samples. Use `zero_division` parameter to control this behavior.\n",
      "  _warn_prf(average, modifier, f\"{metric.capitalize()} is\", result.shape[0])\n",
      "c:\\Users\\Nathan\\Documents\\GitHub\\stage2025test\\env\\Lib\\site-packages\\sklearn\\metrics\\_classification.py:1706: UndefinedMetricWarning: Precision is ill-defined and being set to 0.0 in labels with no predicted samples. Use `zero_division` parameter to control this behavior.\n",
      "  _warn_prf(average, modifier, f\"{metric.capitalize()} is\", result.shape[0])\n",
      "2025/07/17 16:13:36 INFO mlflow.system_metrics.system_metrics_monitor: Stopping system metrics monitoring...\n",
      "2025/07/17 16:13:36 INFO mlflow.system_metrics.system_metrics_monitor: Successfully terminated system metrics monitoring!\n"
     ]
    },
    {
     "data": {
      "text/html": [
       "\n",
       "    <div>\n",
       "      \n",
       "      <progress value='653' max='653' style='width:300px; height:20px; vertical-align: middle;'></progress>\n",
       "      [653/653 00:15]\n",
       "    </div>\n",
       "    "
      ],
      "text/plain": [
       "<IPython.core.display.HTML object>"
      ]
     },
     "metadata": {},
     "output_type": "display_data"
    },
    {
     "name": "stderr",
     "output_type": "stream",
     "text": [
      "c:\\Users\\Nathan\\Documents\\GitHub\\stage2025test\\env\\Lib\\site-packages\\sklearn\\metrics\\_classification.py:1706: UndefinedMetricWarning: Precision is ill-defined and being set to 0.0 in labels with no predicted samples. Use `zero_division` parameter to control this behavior.\n",
      "  _warn_prf(average, modifier, f\"{metric.capitalize()} is\", result.shape[0])\n"
     ]
    },
    {
     "name": "stdout",
     "output_type": "stream",
     "text": [
      "{'eval_loss': 1.5236653089523315, 'eval_model_preparation_time': 0.0, 'eval_Accuracy': 0.6722882330394787, 'eval_F1': 0.6207084801299997, 'eval_Precision': 0.6292626633545765, 'eval_Recall': 0.6722882330394787, 'eval_Top_5_Accuracy': 0.8679570716749713, 'eval_Top_5_F1': 0.28931902389165703, 'eval_runtime': 15.5248, 'eval_samples_per_second': 336.107, 'eval_steps_per_second': 42.062}\n"
     ]
    }
   ],
   "source": [
    "from pipeline.traj_models.fine_tuned_models import RobertaTrajFineTuned\n",
    "roberta_6AttBlocks_fine_tuned = RobertaTrajFineTuned(model_name=\"roberta_6AttBlocks\", dataset=gowalla_geohashed)\n",
    "roberta_6AttBlocks_fine_tuned.config_model(pre_trained_model=roberta_6AttBlocks)\n",
    "roberta_6AttBlocks_fine_tuned.preprocess_data()\n",
    "roberta_6AttBlocks_fine_tuned.split_dataset(train_size=0.6, eval_size=0.2, test_size=0.2)\n",
    "roberta_6AttBlocks_fine_tuned.config_training(eval_metrics=metric_list, nb_epochs=8, learning_rate=0.00002)\n",
    "roberta_6AttBlocks_fine_tuned.config_mlflow(params_to_log=roberta_6AttBlocks_fine_tuned.get_model_params())\n",
    "roberta_6AttBlocks_fine_tuned.train()\n",
    "print(roberta_6AttBlocks_fine_tuned.evaluate(list_metrics=metric_list))\n",
    "roberta_6AttBlocks_fine_tuned.save()"
   ]
  },
  {
   "cell_type": "code",
   "execution_count": null,
   "id": "6b76f5fe",
   "metadata": {},
   "outputs": [],
   "source": []
  },
  {
   "cell_type": "code",
   "execution_count": null,
   "id": "11ea0fd1",
   "metadata": {},
   "outputs": [],
   "source": []
  },
  {
   "cell_type": "code",
   "execution_count": null,
   "id": "2c699d44",
   "metadata": {},
   "outputs": [],
   "source": []
  },
  {
   "cell_type": "code",
   "execution_count": null,
   "id": "cc4fa5da",
   "metadata": {},
   "outputs": [],
   "source": []
  },
  {
   "cell_type": "code",
   "execution_count": null,
   "id": "d4d70fb9",
   "metadata": {},
   "outputs": [],
   "source": []
  },
  {
   "cell_type": "code",
   "execution_count": null,
   "id": "6a012fb5",
   "metadata": {},
   "outputs": [],
   "source": []
  },
  {
   "cell_type": "code",
   "execution_count": null,
   "id": "d1a88f34",
   "metadata": {},
   "outputs": [],
   "source": []
  }
 ],
 "metadata": {
  "kernelspec": {
   "display_name": "env",
   "language": "python",
   "name": "python3"
  },
  "language_info": {
   "codemirror_mode": {
    "name": "ipython",
    "version": 3
   },
   "file_extension": ".py",
   "mimetype": "text/x-python",
   "name": "python",
   "nbconvert_exporter": "python",
   "pygments_lexer": "ipython3",
   "version": "3.12.6"
  }
 },
 "nbformat": 4,
 "nbformat_minor": 5
}
