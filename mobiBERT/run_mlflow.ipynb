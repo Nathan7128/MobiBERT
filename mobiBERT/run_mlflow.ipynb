{
 "cells": [
  {
   "cell_type": "code",
   "execution_count": 1,
   "id": "e547a8e9",
   "metadata": {},
   "outputs": [
    {
     "name": "stderr",
     "output_type": "stream",
     "text": [
      "c:\\Users\\Nathan\\Documents\\GitHub\\stage2025test\\env\\Lib\\site-packages\\tqdm\\auto.py:21: TqdmWarning: IProgress not found. Please update jupyter and ipywidgets. See https://ipywidgets.readthedocs.io/en/stable/user_install.html\n",
      "  from .autonotebook import tqdm as notebook_tqdm\n"
     ]
    }
   ],
   "source": [
    "from pipeline.traj_models.traj_mlflow import run_mlflow_ui, kill_mlflow_ui"
   ]
  },
  {
   "cell_type": "code",
   "execution_count": 2,
   "id": "f9345ee4",
   "metadata": {},
   "outputs": [
    {
     "name": "stdout",
     "output_type": "stream",
     "text": [
      "\n",
      "LAUNCHING THE MLFLOW UI...\n",
      "\n",
      "PLEASE ACCESS THE MLFLOW UI AT: http://127.0.0.1:8080\n",
      "\n"
     ]
    }
   ],
   "source": [
    "run_mlflow_ui()"
   ]
  },
  {
   "cell_type": "code",
   "execution_count": 3,
   "id": "098c31e4",
   "metadata": {},
   "outputs": [
    {
     "name": "stdout",
     "output_type": "stream",
     "text": [
      "MLflow UI has been stopped.\n",
      "\n"
     ]
    }
   ],
   "source": [
    "kill_mlflow_ui()"
   ]
  }
 ],
 "metadata": {
  "kernelspec": {
   "display_name": "env",
   "language": "python",
   "name": "python3"
  },
  "language_info": {
   "codemirror_mode": {
    "name": "ipython",
    "version": 3
   },
   "file_extension": ".py",
   "mimetype": "text/x-python",
   "name": "python",
   "nbconvert_exporter": "python",
   "pygments_lexer": "ipython3",
   "version": "3.12.6"
  }
 },
 "nbformat": 4,
 "nbformat_minor": 5
}
